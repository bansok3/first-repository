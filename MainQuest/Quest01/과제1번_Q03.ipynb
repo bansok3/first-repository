{
  "cells": [
    {
      "cell_type": "markdown",
      "metadata": {
        "id": "view-in-github",
        "colab_type": "text"
      },
      "source": [
        "<a href=\"https://colab.research.google.com/github/bansok3/first-repository/blob/master/MainQuest/Quest01/%EA%B3%BC%EC%A0%9C1%EB%B2%88_Q03.ipynb\" target=\"_parent\"><img src=\"https://colab.research.google.com/assets/colab-badge.svg\" alt=\"Open In Colab\"/></a>"
      ]
    },
    {
      "cell_type": "code",
      "execution_count": 42,
      "metadata": {
        "colab": {
          "base_uri": "https://localhost:8080/"
        },
        "id": "grw9gn4zpmZH",
        "outputId": "2fed4721-bdd7-428d-c147-2c5661da6905"
      },
      "outputs": [
        {
          "output_type": "stream",
          "name": "stdout",
          "text": [
            "총 계좌 개수: 2\n"
          ]
        }
      ],
      "source": [
        "import random\n",
        "\n",
        "class Account:\n",
        "    # 계정 수를 추적하는 클래스 변수\n",
        "    account_count = 0\n",
        "\n",
        "    def __init__(self, owner, balance):\n",
        "        self.bank_name = \"SC은행\"\n",
        "        self.owner = owner\n",
        "        self.balance = balance\n",
        "        self.account_number = self.generate_account_number()\n",
        "        Account.account_count += 1  # 새 계정이 생성될 때마다 계정 수를 늘림\n",
        "\n",
        "    def generate_account_number(self):\n",
        "        part1 = str(random.randint(100, 999))\n",
        "        part2 = str(random.randint(10, 99))\n",
        "        part3 = str(random.randint(100000, 999999))\n",
        "        return f\"{part1}-{part2}-{part3}\"\n",
        "\n",
        "    @classmethod\n",
        "    def get_account_num(cls):\n",
        "        return cls.account_count\n",
        "\n",
        "# Example usage:\n",
        "account1 = Account(\"반업석\", 10000)\n",
        "account2 = Account(\"김철수\", 20000)\n",
        "\n",
        "print(f\"총 계좌 개수: {Account.get_account_num()}\")\n",
        "\n",
        "\n",
        "\n"
      ]
    },
    {
      "cell_type": "markdown",
      "metadata": {
        "id": "2RfVFg6SrsOB"
      },
      "source": []
    }
  ],
  "metadata": {
    "colab": {
      "provenance": [],
      "include_colab_link": true
    },
    "kernelspec": {
      "display_name": "Python 3",
      "name": "python3"
    },
    "language_info": {
      "name": "python"
    }
  },
  "nbformat": 4,
  "nbformat_minor": 0
}