{
  "cells": [
    {
      "cell_type": "markdown",
      "metadata": {
        "id": "view-in-github",
        "colab_type": "text"
      },
      "source": [
        "<a href=\"https://colab.research.google.com/github/bansok3/first-repository/blob/master/MainQuest/Quest01/%EA%B3%BC%EC%A0%9C1%EB%B2%88_Q05.ipynb\" target=\"_parent\"><img src=\"https://colab.research.google.com/assets/colab-badge.svg\" alt=\"Open In Colab\"/></a>"
      ]
    },
    {
      "cell_type": "code",
      "execution_count": 45,
      "metadata": {
        "colab": {
          "base_uri": "https://localhost:8080/"
        },
        "id": "grw9gn4zpmZH",
        "outputId": "1b28f1e4-1dec-48e1-d372-67886ff95b45"
      },
      "outputs": [
        {
          "output_type": "stream",
          "name": "stdout",
          "text": [
            "500원이 입금되었습니다. 현재 잔액: 10500원\n",
            "300원이 출금되었습니다. 현재 잔액: 10200원\n",
            "잔액이 부족합니다. 출금할 수 없습니다.\n",
            "총 계좌 개수: 1\n"
          ]
        }
      ],
      "source": [
        "import random\n",
        "\n",
        "import random\n",
        "\n",
        "class Account:\n",
        "    # 계정 수를 추적하는 클래스 변수\n",
        "    account_count = 0\n",
        "\n",
        "    def __init__(self, owner, balance):\n",
        "        self.bank_name = \"신한은행\"\n",
        "        self.owner = owner\n",
        "        self.balance = balance\n",
        "        self.account_number = self.generate_account_number()\n",
        "        Account.account_count += 1  # 새 계정이 생성될 때마다 계정 수를 늘림\n",
        "    def generate_account_number(self):\n",
        "        part1 = str(random.randint(100, 999))\n",
        "        part2 = str(random.randint(10, 99))\n",
        "        part3 = str(random.randint(100000, 999999))\n",
        "        return f\"{part1}-{part2}-{part3}\"\n",
        "\n",
        "    @classmethod\n",
        "    def get_account_num(cls):\n",
        "        return cls.account_count\n",
        "\n",
        "    def deposit(self, amount):\n",
        "        if amount >= 1:\n",
        "            self.balance += amount\n",
        "            print(f\"{amount}원이 입금되었습니다. 현재 잔액: {self.balance}원\")\n",
        "        else:\n",
        "            print(\"입금은 최소 1원 이상만 가능합니다.\")\n",
        "\n",
        "    def withdraw(self, amount):\n",
        "        if amount <= self.balance:\n",
        "            self.balance -= amount\n",
        "            print(f\"{amount}원이 출금되었습니다. 현재 잔액: {self.balance}원\")\n",
        "        else:\n",
        "            print(\"잔액이 부족합니다. 출금할 수 없습니다.\")\n",
        "\n",
        "# 사용 예:\n",
        "account1 = Account(\"반업석\", 10000)\n",
        "account1.deposit(500)  # 유효한 입금\n",
        "account1.withdraw(300)  # 유효한 출금\n",
        "account1.withdraw(15000) # 유효하지 않은 출금\n",
        "\n",
        "print(f\"총 계좌 개수: {Account.get_account_num()}\")\n",
        "\n",
        "\n"
      ]
    },
    {
      "cell_type": "markdown",
      "metadata": {
        "id": "2RfVFg6SrsOB"
      },
      "source": []
    }
  ],
  "metadata": {
    "colab": {
      "provenance": [],
      "include_colab_link": true
    },
    "kernelspec": {
      "display_name": "Python 3",
      "name": "python3"
    },
    "language_info": {
      "name": "python"
    }
  },
  "nbformat": 4,
  "nbformat_minor": 0
}