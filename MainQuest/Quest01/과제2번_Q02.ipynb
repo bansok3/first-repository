{
  "cells": [
    {
      "cell_type": "markdown",
      "metadata": {
        "id": "view-in-github",
        "colab_type": "text"
      },
      "source": [
        "<a href=\"https://colab.research.google.com/github/bansok3/first-repository/blob/master/MainQuest/Quest01/%EA%B3%BC%EC%A0%9C2%EB%B2%88_Q02.ipynb\" target=\"_parent\"><img src=\"https://colab.research.google.com/assets/colab-badge.svg\" alt=\"Open In Colab\"/></a>"
      ]
    },
    {
      "cell_type": "code",
      "execution_count": 58,
      "metadata": {
        "colab": {
          "base_uri": "https://localhost:8080/"
        },
        "id": "grw9gn4zpmZH",
        "outputId": "a4916bf6-9c33-4ca4-f706-446de666153b"
      },
      "outputs": [
        {
          "output_type": "stream",
          "name": "stdout",
          "text": [
            "플레이어가 몬스터에게 1의 피해를 입혔습니다.\n",
            "몬스터는 0의 피해를 입었고, 현재 체력은 27입니다.\n",
            "몬스터가 플레이어에게 13의 피해를 입혔습니다.\n",
            "플레이어는 8의 피해를 입었고, 현재 체력은 92입니다.\n",
            "플레이어가 60의 경험치를 획득했습니다. 현재 경험치: 60\n",
            "플레이어가 레벨업 했습니다! 현재 레벨: 2, 공격력: 35, 방어력: 10\n"
          ]
        }
      ],
      "source": [
        "import random\n",
        "\n",
        "class Character:\n",
        "    def __init__(self, name, level, health, attack, defense):\n",
        "        self.name = name\n",
        "        self.level = level\n",
        "        self.health = health\n",
        "        self.attack = attack\n",
        "        self.defense = defense\n",
        "\n",
        "    def is_alive(self):\n",
        "        return self.health > 0\n",
        "\n",
        "    def take_damage(self, damage):\n",
        "        actual_damage = max(0, damage - self.defense)\n",
        "        self.health -= actual_damage\n",
        "        print(f\"{self.name}는 {actual_damage}의 피해를 입었고, 현재 체력은 {self.health}입니다.\")\n",
        "\n",
        "    def attack_target(self, target):\n",
        "        damage = random.randint(1, self.attack)\n",
        "        print(f\"{self.name}가 {target.name}에게 {damage}의 피해를 입혔습니다.\")\n",
        "        target.take_damage(damage)\n",
        "\n",
        "class Player(Character):\n",
        "    def __init__(self, name):\n",
        "        super().__init__(name, 1, 100, 25, 5)\n",
        "        self.experience = 0\n",
        "\n",
        "    def gain_experience(self, exp):\n",
        "        self.experience += exp\n",
        "        print(f\"{self.name}가 {exp}의 경험치를 획득했습니다. 현재 경험치: {self.experience}\")\n",
        "        self.level_up()\n",
        "\n",
        "    def level_up(self):\n",
        "        while self.experience >= 50:\n",
        "            self.experience -= 50\n",
        "            self.level += 1\n",
        "            self.attack += 10\n",
        "            self.defense += 5\n",
        "            print(f\"{self.name}가 레벨업 했습니다! 현재 레벨: {self.level}, 공격력: {self.attack}, 방어력: {self.defense}\")\n",
        "\n",
        "class Monster(Character):\n",
        "    def __init__(self, name, level):\n",
        "        health = random.randint(10, 30) * level\n",
        "        attack = random.randint(5, 20) * level\n",
        "        defense = random.randint(1, 5) * level\n",
        "        super().__init__(name, level, health, attack, defense)\n",
        "\n",
        "# 예시 사용법\n",
        "player = Player(\"플레이어\")\n",
        "monster = Monster(\"몬스터\", 1)\n",
        "\n",
        "player.attack_target(monster)\n",
        "monster.attack_target(player)\n",
        "player.gain_experience(60)\n"
      ]
    },
    {
      "cell_type": "markdown",
      "metadata": {
        "id": "2RfVFg6SrsOB"
      },
      "source": []
    }
  ],
  "metadata": {
    "colab": {
      "provenance": [],
      "include_colab_link": true
    },
    "kernelspec": {
      "display_name": "Python 3",
      "name": "python3"
    },
    "language_info": {
      "name": "python"
    }
  },
  "nbformat": 4,
  "nbformat_minor": 0
}