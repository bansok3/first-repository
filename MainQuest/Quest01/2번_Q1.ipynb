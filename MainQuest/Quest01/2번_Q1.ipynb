{
  "cells": [
    {
      "cell_type": "markdown",
      "metadata": {
        "id": "view-in-github",
        "colab_type": "text"
      },
      "source": [
        "<a href=\"https://colab.research.google.com/github/bansok3/first-repository/blob/master/MainQuest/Quest01/2%EB%B2%88_Q1.ipynb\" target=\"_parent\"><img src=\"https://colab.research.google.com/assets/colab-badge.svg\" alt=\"Open In Colab\"/></a>"
      ]
    },
    {
      "cell_type": "code",
      "execution_count": 37,
      "metadata": {
        "colab": {
          "base_uri": "https://localhost:8080/"
        },
        "id": "grw9gn4zpmZH",
        "outputId": "ad2a2db7-6b98-47c1-b9f3-ba0ad10f4c78"
      },
      "outputs": [
        {
          "output_type": "stream",
          "name": "stdout",
          "text": [
            "플레이어가 몬스터에게 8의 피해를 입혔습니다.\n",
            "몬스터는 5의 피해를 입었고, 현재 체력은 45입니다.\n",
            "몬스터가 플레이어에게 5의 피해를 입혔습니다.\n",
            "플레이어는 0의 피해를 입었고, 현재 체력은 100입니다.\n"
          ]
        }
      ],
      "source": [
        "import random\n",
        "\n",
        "class Character:\n",
        "    def __init__(self, name, level, health, attack, defense):\n",
        "        self.name = name\n",
        "        self.level = level\n",
        "        self.health = health\n",
        "        self.attack = attack\n",
        "        self.defense = defense\n",
        "\n",
        "    def is_alive(self):\n",
        "        return self.health > 0\n",
        "\n",
        "    def take_damage(self, damage):\n",
        "        actual_damage = max(0, damage - self.defense)\n",
        "        self.health -= actual_damage\n",
        "        print(f\"{self.name}는 {actual_damage}의 피해를 입었고, 현재 체력은 {self.health}입니다.\")\n",
        "\n",
        "    def attack_target(self, target):\n",
        "        damage = random.randint(1, self.attack)\n",
        "        print(f\"{self.name}가 {target.name}에게 {damage}의 피해를 입혔습니다.\")\n",
        "        target.take_damage(damage)\n",
        "\n",
        "# 예시 사용법\n",
        "player = Character(\"플레이어\", 1, 100, 20, 5)\n",
        "monster = Character(\"몬스터\", 1, 50, 15, 3)\n",
        "\n",
        "player.attack_target(monster)\n",
        "monster.attack_target(player)\n",
        "\n",
        "\n",
        "\n",
        "\n",
        "\n"
      ]
    },
    {
      "cell_type": "markdown",
      "metadata": {
        "id": "2RfVFg6SrsOB"
      },
      "source": []
    }
  ],
  "metadata": {
    "colab": {
      "provenance": [],
      "include_colab_link": true
    },
    "kernelspec": {
      "display_name": "Python 3",
      "name": "python3"
    },
    "language_info": {
      "name": "python"
    }
  },
  "nbformat": 4,
  "nbformat_minor": 0
}