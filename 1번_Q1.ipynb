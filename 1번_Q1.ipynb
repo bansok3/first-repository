{
  "cells": [
    {
      "cell_type": "markdown",
      "metadata": {
        "id": "view-in-github",
        "colab_type": "text"
      },
      "source": [
        "<a href=\"https://colab.research.google.com/github/bansok3/first-repository/blob/master/1%EB%B2%88_Q1.ipynb\" target=\"_parent\"><img src=\"https://colab.research.google.com/assets/colab-badge.svg\" alt=\"Open In Colab\"/></a>"
      ]
    },
    {
      "cell_type": "code",
      "execution_count": null,
      "metadata": {
        "colab": {
          "base_uri": "https://localhost:8080/"
        },
        "id": "grw9gn4zpmZH",
        "outputId": "4dfad01d-bd83-47e0-826a-87530375fd7c"
      },
      "outputs": [
        {
          "output_type": "stream",
          "name": "stdout",
          "text": [
            "은행이름: 신한은행\n",
            "예금주: 반업석\n",
            "계좌번호: 611-71-580231\n",
            "잔액: 10000\n"
          ]
        }
      ],
      "source": [
        "import random\n",
        "\n",
        "class Account:\n",
        "    def __init__(self, owner, balance):\n",
        "        self.bank_name = \"신한은행\"\n",
        "        self.owner = owner\n",
        "        self.balance = balance\n",
        "        self.account_number = self.generate_account_number()\n",
        "\n",
        "    def generate_account_number(self):\n",
        "        part1 = str(random.randint(100, 999))\n",
        "        part2 = str(random.randint(10, 99))\n",
        "        part3 = str(random.randint(100000, 999999))\n",
        "        return f\"{part1}-{part2}-{part3}\"\n",
        "\n",
        "# Example usage:\n",
        "account = Account(\"반업석\", 10000)\n",
        "print(f\"은행이름: {account.bank_name}\")\n",
        "print(f\"예금주: {account.owner}\")\n",
        "print(f\"계좌번호: {account.account_number}\")\n",
        "print(f\"잔액: {account.balance}\")"
      ]
    },
    {
      "cell_type": "markdown",
      "metadata": {
        "id": "2RfVFg6SrsOB"
      },
      "source": []
    }
  ],
  "metadata": {
    "colab": {
      "provenance": [],
      "include_colab_link": true
    },
    "kernelspec": {
      "display_name": "Python 3",
      "name": "python3"
    },
    "language_info": {
      "name": "python"
    }
  },
  "nbformat": 4,
  "nbformat_minor": 0
}