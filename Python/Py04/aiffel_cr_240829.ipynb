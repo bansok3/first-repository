{
  "cells": [
    {
      "cell_type": "markdown",
      "metadata": {
        "id": "view-in-github",
        "colab_type": "text"
      },
      "source": [
        "<a href=\"https://colab.research.google.com/github/bansok3/first-repository/blob/master/Python/Py04/aiffel_cr_240829.ipynb\" target=\"_parent\"><img src=\"https://colab.research.google.com/assets/colab-badge.svg\" alt=\"Open In Colab\"/></a>"
      ]
    },
    {
      "cell_type": "code",
      "execution_count": 63,
      "metadata": {
        "colab": {
          "base_uri": "https://localhost:8080/"
        },
        "id": "grw9gn4zpmZH",
        "outputId": "18f7a8ce-f2fa-4f67-8877-26c057d4be01"
      },
      "outputs": [
        {
          "output_type": "stream",
          "name": "stdout",
          "text": [
            "정수 2개를 입력해주세요. (예:4 5): 4 5\n",
            "연산자를 입력해주세요. (+, -, *, /, **): *\n",
            "4 x 5 = 20\n",
            "계산을 계속 하시겠습니까? (y, n): n\n",
            "계산기를 종료합니다!\n"
          ]
        }
      ],
      "source": [
        "# 모듈 import\n",
        "import math as m\n",
        "\n",
        "# 정수를 2개 입력 받는 함수\n",
        "def get_integers():\n",
        "  integers = input('정수 2개를 입력해주세요. (예:4 5): ')\n",
        "  return integers\n",
        "\n",
        "# 연산자를 입력 받는 함수\n",
        "def get_operator():\n",
        "  operator = input('연산자를 입력해주세요. (+, -, *, /, **): ')\n",
        "  return operator\n",
        "\n",
        "# 계산기 함수\n",
        "def calculator():\n",
        "\n",
        "  # 정수 2개 입력 받기\n",
        "  integers = get_integers().split() # 문자열 \"4 5\" --> 리스트 ['4', '5']\n",
        "\n",
        "  # 정수가 아닌 경우, 정수를 입력할 때까지 다시 입력 시도\n",
        "  # 첫번째 입력값과 두번째 입력값 중 어느 하나라도 정수가 아닌경우 while문을 지속한다.\n",
        "  while not integers[0].isdigit() or not integers[1].isdigit():\n",
        "    print('정수가 아닌 값이 들어왔습니다! 정수를 입력해주세요!')\n",
        "    integers = get_integers().split()\n",
        "\n",
        "  # 연산자 입력 받기\n",
        "  operator = get_operator()\n",
        "\n",
        "  # 연산자 (+, -, *, /, **)가 아닌 다른 값이 들어오면 에러 처리\n",
        "  if operator not in ['+', '-', '*', '/', '**']:\n",
        "    raise ValueError('연산자 +, -, *, /, ** 중에 골라주세요!') # 계산기 종료\n",
        "\n",
        "  # 더하기\n",
        "  if operator == '+':\n",
        "    result = int(integers[0]) + int(integers[1])\n",
        "    print(f\"{integers[0]} + {integers[1]} = {result}\")\n",
        "\n",
        "  # 빼기\n",
        "  elif operator == '-':\n",
        "    result = int(integers[0]) + int(integers[1])\n",
        "    print(f\"{integers[0]} - {integers[1]} = {result}\")\n",
        "\n",
        "  # 곱하기\n",
        "  elif operator == '*':\n",
        "    result = int(integers[0]) * int(integers[1])\n",
        "    print(f\"{integers[0]} x {integers[1]} = {result}\")\n",
        "\n",
        "  # 제곱, math 모듈 사용\n",
        "  elif operator == '**':\n",
        "    result = m.pow(int(integers[0]), int(integers[1]))\n",
        "    print(f\"{integers[0]}의 {integers[1]}제곱 = {result}\")\n",
        "\n",
        "  # 나누기\n",
        "  elif operator == '/':\n",
        "    # 나눗셈 연산할 때, 두번째 정수가 0이면 에러 처리\n",
        "    if int(integers[1]) == 0:\n",
        "      raise ZeroDivisionError('0으로 나눌 수 없습니다!')\n",
        "    else: # 두번째 정수가 0이 아니면\n",
        "      result = int(integers[0]) / int(integers[1])\n",
        "      print(f\"{integers[0]} / {integers[1]} = {result}\")\n",
        "\n",
        "def main_con():\n",
        "  con = input('계산을 계속 하시겠습니까? (y, n): ')\n",
        "  return con\n",
        "\n",
        "# 계산을 계속 할 것이냐 y, n\n",
        "calculator()\n",
        "\n",
        "while True:\n",
        "\n",
        "  con = main_con() # con: continue\n",
        "\n",
        "  if con == 'y':\n",
        "    calculator() # 계산기 함수\n",
        "\n",
        "  elif con == 'n':\n",
        "    print('계산기를 종료합니다!')\n",
        "    break\n",
        "\n",
        "  else:\n",
        "    print('y 또는 n을 입력해주세요!')\n"
      ]
    },
    {
      "cell_type": "markdown",
      "metadata": {
        "id": "2RfVFg6SrsOB"
      },
      "source": []
    }
  ],
  "metadata": {
    "colab": {
      "provenance": [],
      "include_colab_link": true
    },
    "kernelspec": {
      "display_name": "Python 3",
      "name": "python3"
    },
    "language_info": {
      "name": "python"
    }
  },
  "nbformat": 4,
  "nbformat_minor": 0
}