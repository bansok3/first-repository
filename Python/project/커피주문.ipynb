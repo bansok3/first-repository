{
  "cells": [
    {
      "cell_type": "markdown",
      "metadata": {
        "id": "view-in-github",
        "colab_type": "text"
      },
      "source": [
        "<a href=\"https://colab.research.google.com/github/bansok3/first-repository/blob/master/Python/project/%EC%BB%A4%ED%94%BC%EC%A3%BC%EB%AC%B8.ipynb\" target=\"_parent\"><img src=\"https://colab.research.google.com/assets/colab-badge.svg\" alt=\"Open In Colab\"/></a>"
      ]
    },
    {
      "cell_type": "code",
      "execution_count": 59,
      "metadata": {
        "colab": {
          "base_uri": "https://localhost:8080/"
        },
        "id": "grw9gn4zpmZH",
        "outputId": "5b26da21-3e2d-48c5-cf68-9660876f19be"
      },
      "outputs": [
        {
          "output_type": "stream",
          "name": "stdout",
          "text": [
            "1 아메리카노  :  3000 원\n",
            "2 카페라떼  :  3500 원\n",
            "3 카푸치노  :  4000 원\n",
            "\n",
            "음료 번호를 입력하세요 : 1\n",
            "HOT 음료는 1을, ICE 음료는 2를 입력하세요 : 2\n",
            "주문 음료: ICE 아메리카노  :  3000 원\n"
          ]
        }
      ],
      "source": [
        "class Kiosk:\n",
        "    def __init__(self):\n",
        "\n",
        "        self.menu = [\"아메리카노\", \"카페라떼\", \"카푸치노\"]\n",
        "        self.price = [3000, 3500, 4000]\n",
        "\n",
        "    # 메뉴 출력 메서드\n",
        "    def menu_print(self):\n",
        "        for i in range(len(self.menu)):\n",
        "            print(i + 1, self.menu[i], ' : ', self.price[i], '원')\n",
        "\n",
        "    # 주문 메서드\n",
        "    def menu_select(self):\n",
        "        print()  # 줄 바꿈\n",
        "        n = 0\n",
        "        while n < 1 or n > len(self.menu):\n",
        "            n = int(input(\"음료 번호를 입력하세요 : \"))  # 음료 번호 입력\n",
        "\n",
        "            # 메뉴판에 있는 음료 번호일 때\n",
        "            if 1 <= n <= len(self.menu):\n",
        "                self.price_sum = self.price[n-1]  # 선택 음료의 가격\n",
        "\n",
        "            # 메뉴판에 없는 번호일 때\n",
        "            else:\n",
        "                print(\"없는 메뉴입니다. 다시 주문해 주세요.\")\n",
        "\n",
        "        # 음료 온도 물어보기\n",
        "        t = 0  # 기본값을 넣어주고\n",
        "        while t != 1 and t != 2:  # 1이나 2를 입력할 때까지 물어보기\n",
        "            t = int(input(\"HOT 음료는 1을, ICE 음료는 2를 입력하세요 : \"))\n",
        "            # 문제 2-3. 음료의 온도에 따라 temp 변수를 \"HOT\" 또는 \"ICE\"로 지정하세요.\n",
        "            if t == 1:\n",
        "                self.temp = \"HOT\"\n",
        "            elif t == 2:\n",
        "                self.temp = \"ICE\"\n",
        "            else:\n",
        "                print(\"1과 2 중 하나를 입력하세요.\\n\")\n",
        "\n",
        "\n",
        "        print('주문 음료:', self.temp, self.menu[n-1], ' : ', self.price_sum, '원')  # 온도 속성을 추가한 주문 결과 출력\n",
        "\n",
        "# 예시 사용법\n",
        "kiosk = Kiosk()\n",
        "kiosk.menu_print()\n",
        "kiosk.menu_select()"
      ]
    },
    {
      "cell_type": "markdown",
      "metadata": {
        "id": "2RfVFg6SrsOB"
      },
      "source": []
    }
  ],
  "metadata": {
    "colab": {
      "provenance": [],
      "include_colab_link": true
    },
    "kernelspec": {
      "display_name": "Python 3",
      "name": "python3"
    },
    "language_info": {
      "name": "python"
    }
  },
  "nbformat": 4,
  "nbformat_minor": 0
}